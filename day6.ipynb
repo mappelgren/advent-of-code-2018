{
 "cells": [
  {
   "cell_type": "code",
   "execution_count": 32,
   "metadata": {},
   "outputs": [],
   "source": [
    "import numpy as np"
   ]
  },
  {
   "cell_type": "code",
   "execution_count": 3,
   "metadata": {},
   "outputs": [],
   "source": [
    "with open('data/day6.dat', 'r') as f:\n",
    "    data = f.readlines()"
   ]
  },
  {
   "cell_type": "code",
   "execution_count": 4,
   "metadata": {},
   "outputs": [
    {
     "data": {
      "text/plain": [
       "['275, 276\\n',\n",
       " '176, 108\\n',\n",
       " '270, 134\\n',\n",
       " '192, 224\\n',\n",
       " '252, 104\\n',\n",
       " '240, 271\\n',\n",
       " '144, 220\\n',\n",
       " '341, 303\\n',\n",
       " '344, 166\\n',\n",
       " '142, 347\\n',\n",
       " '207, 135\\n',\n",
       " '142, 353\\n',\n",
       " '343, 74\\n',\n",
       " '90, 210\\n',\n",
       " '82, 236\\n',\n",
       " '124, 295\\n',\n",
       " '41, 226\\n',\n",
       " '298, 109\\n',\n",
       " '276, 314\\n',\n",
       " '50, 303\\n',\n",
       " '131, 42\\n',\n",
       " '119, 335\\n',\n",
       " '275, 125\\n',\n",
       " '113, 289\\n',\n",
       " '347, 230\\n',\n",
       " '192, 329\\n',\n",
       " '158, 316\\n',\n",
       " '154, 356\\n',\n",
       " '171, 350\\n',\n",
       " '165, 59\\n',\n",
       " '257, 129\\n',\n",
       " '306, 55\\n',\n",
       " '334, 203\\n',\n",
       " '55, 63\\n',\n",
       " '268, 198\\n',\n",
       " '44, 103\\n',\n",
       " '230, 199\\n',\n",
       " '41, 181\\n',\n",
       " '357, 328\\n',\n",
       " '331, 85\\n',\n",
       " '256, 290\\n',\n",
       " '168, 290\\n',\n",
       " '353, 77\\n',\n",
       " '81, 328\\n',\n",
       " '136, 316\\n',\n",
       " '138, 213\\n',\n",
       " '352, 271\\n',\n",
       " '139, 222\\n',\n",
       " '139, 318\\n',\n",
       " '194, 239\\n']"
      ]
     },
     "execution_count": 4,
     "metadata": {},
     "output_type": "execute_result"
    }
   ],
   "source": [
    "data"
   ]
  },
  {
   "cell_type": "code",
   "execution_count": 8,
   "metadata": {
    "scrolled": true
   },
   "outputs": [
    {
     "data": {
      "text/plain": [
       "[(275, 276),\n",
       " (176, 108),\n",
       " (270, 134),\n",
       " (192, 224),\n",
       " (252, 104),\n",
       " (240, 271),\n",
       " (144, 220),\n",
       " (341, 303),\n",
       " (344, 166),\n",
       " (142, 347),\n",
       " (207, 135),\n",
       " (142, 353),\n",
       " (343, 74),\n",
       " (90, 210),\n",
       " (82, 236),\n",
       " (124, 295),\n",
       " (41, 226),\n",
       " (298, 109),\n",
       " (276, 314),\n",
       " (50, 303),\n",
       " (131, 42),\n",
       " (119, 335),\n",
       " (275, 125),\n",
       " (113, 289),\n",
       " (347, 230),\n",
       " (192, 329),\n",
       " (158, 316),\n",
       " (154, 356),\n",
       " (171, 350),\n",
       " (165, 59),\n",
       " (257, 129),\n",
       " (306, 55),\n",
       " (334, 203),\n",
       " (55, 63),\n",
       " (268, 198),\n",
       " (44, 103),\n",
       " (230, 199),\n",
       " (41, 181),\n",
       " (357, 328),\n",
       " (331, 85),\n",
       " (256, 290),\n",
       " (168, 290),\n",
       " (353, 77),\n",
       " (81, 328),\n",
       " (136, 316),\n",
       " (138, 213),\n",
       " (352, 271),\n",
       " (139, 222),\n",
       " (139, 318),\n",
       " (194, 239)]"
      ]
     },
     "execution_count": 8,
     "metadata": {},
     "output_type": "execute_result"
    }
   ],
   "source": [
    "int_data = [tuple(map(int, y.split(','))) for y in data]\n",
    "int_data"
   ]
  },
  {
   "cell_type": "code",
   "execution_count": 18,
   "metadata": {},
   "outputs": [],
   "source": [
    "max_x = max(list(map(lambda x: x[0], int_data)))\n",
    "max_y = max(list(map(lambda x: x[1], int_data)))"
   ]
  },
  {
   "cell_type": "code",
   "execution_count": 21,
   "metadata": {},
   "outputs": [
    {
     "data": {
      "text/plain": [
       "50"
      ]
     },
     "execution_count": 21,
     "metadata": {},
     "output_type": "execute_result"
    }
   ],
   "source": [
    "len(int_data)"
   ]
  },
  {
   "cell_type": "code",
   "execution_count": 23,
   "metadata": {},
   "outputs": [
    {
     "data": {
      "text/plain": [
       "'ABCDEFGHIJKLMNOPQRSTUVWXYZ'"
      ]
     },
     "execution_count": 23,
     "metadata": {},
     "output_type": "execute_result"
    }
   ],
   "source": [
    "import string\n",
    "string.ascii_uppercase"
   ]
  },
  {
   "cell_type": "code",
   "execution_count": 25,
   "metadata": {},
   "outputs": [],
   "source": [
    "ids = ['#{}'.format(i) for i in range(len(int_data))]"
   ]
  },
  {
   "cell_type": "code",
   "execution_count": 121,
   "metadata": {},
   "outputs": [
    {
     "data": {
      "text/plain": [
       "1"
      ]
     },
     "execution_count": 121,
     "metadata": {},
     "output_type": "execute_result"
    }
   ],
   "source": [
    "def get_distance(l1, l2):\n",
    "    x1, y1 = l1\n",
    "    x2, y2 = l2\n",
    "    return abs(x1 - x2) + abs(y1-y2)\n",
    "\n",
    "def get_distances(l1, data):\n",
    "    ids = ['#{}'.format(i) for i in range(len(data))]\n",
    "    for id_, l2 in zip(ids, data):\n",
    "        yield get_distance(l1, l2), id_\n",
    "\n",
    "def get_closest(l1, data):\n",
    "    distances = list(get_distances(l1, data))\n",
    "    dist, id_ = min(distances)\n",
    "    #print(distances)\n",
    "    #print([dist_ for dist_, id_ in distances if  dist_ == dist])\n",
    "    if len([dist_ for dist_, id_ in distances if  dist_ == dist]) == 1:\n",
    "        return id_\n",
    "    else:\n",
    "        return '.'\n",
    "\n",
    "def get_sum(l1, data):\n",
    "    distances = [d for d, i in get_distances(l1, data)]\n",
    "    s = sum(distances)\n",
    "    if s < 10000:\n",
    "        return 1\n",
    "    else:\n",
    "        return 0\n",
    "#     #print(distances)\n",
    "#     #print([dist_ for dist_, id_ in distances if  dist_ == dist])\n",
    "#     if len([dist_ for dist_, id_ in distances if  dist_ == dist]) == 1:\n",
    "#         return id_\n",
    "#     else:\n",
    "#         return '.'\n",
    "        \n",
    "get_sum((200,200), int_data)"
   ]
  },
  {
   "cell_type": "code",
   "execution_count": 123,
   "metadata": {},
   "outputs": [],
   "source": [
    "def build_grid(data):\n",
    "    max_x = max(list(map(lambda x: x[0], data)))\n",
    "    max_y = max(list(map(lambda x: x[1], data)))\n",
    "    grid = np.array([['...']*max_y]*max_x)\n",
    "    for i in range(grid.shape[0]):\n",
    "        for j in range(grid.shape[1]):\n",
    "            closest = get_closest((i,j), data)\n",
    "            grid[i,j] = closest\n",
    "    return grid\n",
    "\n",
    "def build_sum_grid(data):\n",
    "    max_x = max(list(map(lambda x: x[0], data)))\n",
    "    max_y = max(list(map(lambda x: x[1], data)))\n",
    "    grid = np.zeros((max_x, max_y))\n",
    "    for i in range(grid.shape[0]):\n",
    "        for j in range(grid.shape[1]):\n",
    "            grid[i,j] = get_sum((i,j), data)\n",
    "            \n",
    "    return grid\n",
    "grid = build_sum_grid(int_data)"
   ]
  },
  {
   "cell_type": "code",
   "execution_count": 125,
   "metadata": {},
   "outputs": [
    {
     "data": {
      "text/plain": [
       "<matplotlib.image.AxesImage at 0x120456940>"
      ]
     },
     "execution_count": 125,
     "metadata": {},
     "output_type": "execute_result"
    },
    {
     "data": {
      "image/png": "[encoded data removed]",
      "text/plain": [
       "<Figure size 432x288 with 1 Axes>"
      ]
     },
     "metadata": {
      "needs_background": "light"
     },
     "output_type": "display_data"
    }
   ],
   "source": [
    "plt.imshow(grid)"
   ]
  },
  {
   "cell_type": "code",
   "execution_count": 126,
   "metadata": {},
   "outputs": [
    {
     "data": {
      "text/plain": [
       "35334.0"
      ]
     },
     "execution_count": 126,
     "metadata": {},
     "output_type": "execute_result"
    }
   ],
   "source": [
    "np.sum(grid)"
   ]
  },
  {
   "cell_type": "code",
   "execution_count": 99,
   "metadata": {},
   "outputs": [],
   "source": [
    "side1 = grid[:, 0]\n",
    "side2 = grid[0, :]\n",
    "side3 = grid[:, -1]\n",
    "side4 = grid[-1, :]"
   ]
  },
  {
   "cell_type": "code",
   "execution_count": 100,
   "metadata": {},
   "outputs": [],
   "source": [
    "infinite_regions = set(side1)\n",
    "infinite_regions.update(side2)\n",
    "infinite_regions.update(side3)\n",
    "infinite_regions.update(side4)"
   ]
  },
  {
   "cell_type": "code",
   "execution_count": 52,
   "metadata": {},
   "outputs": [
    {
     "data": {
      "text/plain": [
       "{'#11',\n",
       " '#12',\n",
       " '#16',\n",
       " '#18',\n",
       " '#19',\n",
       " '#20',\n",
       " '#21',\n",
       " '#24',\n",
       " '#25',\n",
       " '#27',\n",
       " '#28',\n",
       " '#29',\n",
       " '#31',\n",
       " '#32',\n",
       " '#33',\n",
       " '#35',\n",
       " '#37',\n",
       " '#38',\n",
       " '#4',\n",
       " '#42',\n",
       " '#43',\n",
       " '#46',\n",
       " '#7',\n",
       " '#8'}"
      ]
     },
     "execution_count": 52,
     "metadata": {},
     "output_type": "execute_result"
    }
   ],
   "source": [
    "infinite_regions"
   ]
  },
  {
   "cell_type": "code",
   "execution_count": 117,
   "metadata": {},
   "outputs": [],
   "source": [
    "regions = set(ids) - infinite_regions"
   ]
  },
  {
   "cell_type": "code",
   "execution_count": 102,
   "metadata": {},
   "outputs": [
    {
     "data": {
      "text/plain": [
       "{'#0',\n",
       " '#1',\n",
       " '#10',\n",
       " '#13',\n",
       " '#14',\n",
       " '#15',\n",
       " '#17',\n",
       " '#2',\n",
       " '#22',\n",
       " '#23',\n",
       " '#26',\n",
       " '#3',\n",
       " '#30',\n",
       " '#34',\n",
       " '#36',\n",
       " '#39',\n",
       " '#40',\n",
       " '#41',\n",
       " '#44',\n",
       " '#45',\n",
       " '#47',\n",
       " '#48',\n",
       " '#49',\n",
       " '#5',\n",
       " '#6',\n",
       " '#9'}"
      ]
     },
     "execution_count": 102,
     "metadata": {},
     "output_type": "execute_result"
    }
   ],
   "source": [
    "regions"
   ]
  },
  {
   "cell_type": "code",
   "execution_count": 118,
   "metadata": {},
   "outputs": [
    {
     "data": {
      "text/plain": [
       "2274"
      ]
     },
     "execution_count": 118,
     "metadata": {},
     "output_type": "execute_result"
    }
   ],
   "source": [
    "def get_region_size(id_, grid):\n",
    "    g = np.int32(grid == id_)\n",
    "    return np.sum(g)\n",
    "get_region_size('#5', grid)"
   ]
  },
  {
   "cell_type": "code",
   "execution_count": 119,
   "metadata": {},
   "outputs": [
    {
     "data": {
      "text/plain": [
       "(5333, '#1')"
      ]
     },
     "execution_count": 119,
     "metadata": {},
     "output_type": "execute_result"
    }
   ],
   "source": [
    "sizes = [(get_region_size(id_, grid), id_) for id_ in regions]\n",
    "max(sizes)"
   ]
  },
  {
   "cell_type": "code",
   "execution_count": 60,
   "metadata": {},
   "outputs": [],
   "source": [
    "x,y = grid.shape"
   ]
  },
  {
   "cell_type": "code",
   "execution_count": 61,
   "metadata": {},
   "outputs": [
    {
     "data": {
      "text/plain": [
       "127092"
      ]
     },
     "execution_count": 61,
     "metadata": {},
     "output_type": "execute_result"
    }
   ],
   "source": [
    "x*y"
   ]
  },
  {
   "cell_type": "code",
   "execution_count": 82,
   "metadata": {},
   "outputs": [
    {
     "name": "stdout",
     "output_type": "stream",
     "text": [
      "[['#33' '#33' '#33' ... '#19' '#19' '#19']\n",
      " ['#33' '#33' '#33' ... '#19' '#19' '#19']\n",
      " ['#33' '#33' '#33' ... '#19' '#19' '#19']\n",
      " ...\n",
      " ['#42' '#42' '#42' ... '#38' '#38' '#38']\n",
      " ['#42' '#42' '#42' ... '#38' '#38' '#38']\n",
      " ['#42' '#42' '#42' ... '#38' '#38' '#38']]\n"
     ]
    }
   ],
   "source": [
    "print(grid)"
   ]
  },
  {
   "cell_type": "code",
   "execution_count": 89,
   "metadata": {},
   "outputs": [
    {
     "data": {
      "text/plain": [
       "1"
      ]
     },
     "execution_count": 89,
     "metadata": {},
     "output_type": "execute_result"
    }
   ],
   "source": [
    "g[176, 108]"
   ]
  },
  {
   "cell_type": "code",
   "execution_count": 65,
   "metadata": {},
   "outputs": [],
   "source": [
    "import matplotlib.pyplot as plt"
   ]
  },
  {
   "cell_type": "code",
   "execution_count": 75,
   "metadata": {},
   "outputs": [
    {
     "data": {
      "text/plain": [
       "(176, 108)"
      ]
     },
     "execution_count": 75,
     "metadata": {},
     "output_type": "execute_result"
    }
   ],
   "source": [
    "int_data[1]"
   ]
  },
  {
   "cell_type": "code",
   "execution_count": 86,
   "metadata": {},
   "outputs": [],
   "source": [
    "g = np.int32(grid == '#1')\n"
   ]
  },
  {
   "cell_type": "code",
   "execution_count": 81,
   "metadata": {},
   "outputs": [
    {
     "data": {
      "text/plain": [
       "<matplotlib.image.AxesImage at 0x11fff6fd0>"
      ]
     },
     "execution_count": 81,
     "metadata": {},
     "output_type": "execute_result"
    },
    {
     "data": {
      "image/png": "[encoded data removed]",
      "text/plain": [
       "<Figure size 432x288 with 1 Axes>"
      ]
     },
     "metadata": {
      "needs_background": "light"
     },
     "output_type": "display_data"
    }
   ],
   "source": [
    "plt.imshow(g)"
   ]
  },
  {
   "cell_type": "code",
   "execution_count": 71,
   "metadata": {},
   "outputs": [
    {
     "data": {
      "text/plain": [
       "[(3582, '#45'),\n",
       " (2826, '#36'),\n",
       " (1901, '#23'),\n",
       " (2274, '#5'),\n",
       " (1440, '#39'),\n",
       " (1291, '#2'),\n",
       " (1150, '#15'),\n",
       " (1407, '#40'),\n",
       " (3413, '#34'),\n",
       " (2777, '#0'),\n",
       " (690, '#22'),\n",
       " (2349, '#17'),\n",
       " (358, '#48'),\n",
       " (2375, '#41'),\n",
       " (3259, '#10'),\n",
       " (372, '#9'),\n",
       " (400, '#44'),\n",
       " (880, '#26'),\n",
       " (5508, '#1'),\n",
       " (959, '#6'),\n",
       " (2062, '#49'),\n",
       " (1067, '#47'),\n",
       " (3723, '#13'),\n",
       " (2171, '#3'),\n",
       " (2405, '#14'),\n",
       " (1354, '#30')]"
      ]
     },
     "execution_count": 71,
     "metadata": {},
     "output_type": "execute_result"
    }
   ],
   "source": [
    "sizes"
   ]
  },
  {
   "cell_type": "code",
   "execution_count": null,
   "metadata": {},
   "outputs": [],
   "source": []
  }
 ],
 "metadata": {
  "kernelspec": {
   "display_name": "Python 3",
   "language": "python",
   "name": "python3"
  },
  "language_info": {
   "codemirror_mode": {
    "name": "ipython",
    "version": 3
   },
   "file_extension": ".py",
   "mimetype": "text/x-python",
   "name": "python",
   "nbconvert_exporter": "python",
   "pygments_lexer": "ipython3",
   "version": "3.7.1"
  }
 },
 "nbformat": 4,
 "nbformat_minor": 2
}
